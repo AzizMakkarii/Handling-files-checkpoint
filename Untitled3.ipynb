{
 "cells": [
  {
   "cell_type": "code",
   "execution_count": 1,
   "id": "c9864a58-19fa-42cf-aaa7-f183e8716304",
   "metadata": {},
   "outputs": [
    {
     "name": "stdout",
     "output_type": "stream",
     "text": [
      "okok kaisoun top rojla manhebbech fih \n"
     ]
    }
   ],
   "source": [
    "#1. Write a Python program to read an entire text file.\n",
    "def file_read(fname):\n",
    "        txt = open(fname)\n",
    "        print(txt.read())\n",
    "\n",
    "file_read('test.txt')"
   ]
  },
  {
   "cell_type": "code",
   "execution_count": 5,
   "id": "7415bf08-529e-4b37-8c1e-a9c21423575e",
   "metadata": {},
   "outputs": [
    {
     "name": "stdin",
     "output_type": "stream",
     "text": [
      "donner le nombre de lignes 3\n"
     ]
    },
    {
     "name": "stdout",
     "output_type": "stream",
     "text": [
      "kais saied\n",
      "\n",
      "hichem mechichi \n",
      "\n",
      "rached ghanouchi\n",
      "\n"
     ]
    }
   ],
   "source": [
    "#2. Write a Python program to read first n lines of a file.\n",
    "\n",
    "f = open(\"test.txt\")\n",
    "\n",
    "n=int(input('donner le nombre de lignes'))\n",
    "for i in range(n):\n",
    "\n",
    "    line = f.readline()\n",
    "    print(line)"
   ]
  },
  {
   "cell_type": "code",
   "execution_count": null,
   "id": "e101312f-db06-4068-b0c8-5951a18b5c33",
   "metadata": {},
   "outputs": [],
   "source": [
    "#3. Write a Python program to read last n lines of a file\n",
    "f = open(\"test.txt\", \"r\")\n",
    "n=int(input('donner le nombre des dernières lignes'))\n",
    "lines = f.readlines()\n",
    "last_lines = lines[-n:]\n",
    "\n",
    "print(last_lines)"
   ]
  },
  {
   "cell_type": "code",
   "execution_count": 3,
   "id": "057f3101-7e0e-4720-8177-fbadc95b1a60",
   "metadata": {},
   "outputs": [
    {
     "name": "stdout",
     "output_type": "stream",
     "text": [
      "9\n"
     ]
    }
   ],
   "source": [
    "#4. Write a Python program that takes a text file as input and returns the number of words of a given text file.\n",
    "def words(file):\n",
    "   with open(file) as f:\n",
    "       data = f.read()\n",
    "       return len(data.split(\" \"))\n",
    "print(words(\"test.txt\"))"
   ]
  },
  {
   "cell_type": "code",
   "execution_count": 4,
   "id": "8327be94-3564-4042-8568-62f283a9c0bd",
   "metadata": {},
   "outputs": [
    {
     "name": "stdout",
     "output_type": "stream",
     "text": [
      "9\n"
     ]
    }
   ],
   "source": [
    "#5. (bonus) Write a Python program to read last n lines of a file\n"
   ]
  },
  {
   "cell_type": "code",
   "execution_count": null,
   "id": "91ea6a03-266f-4374-845b-636142fb6c1f",
   "metadata": {},
   "outputs": [],
   "source": []
  }
 ],
 "metadata": {
  "kernelspec": {
   "display_name": "Python 3",
   "language": "python",
   "name": "python3"
  },
  "language_info": {
   "codemirror_mode": {
    "name": "ipython",
    "version": 3
   },
   "file_extension": ".py",
   "mimetype": "text/x-python",
   "name": "python",
   "nbconvert_exporter": "python",
   "pygments_lexer": "ipython3",
   "version": "3.8.8"
  }
 },
 "nbformat": 4,
 "nbformat_minor": 5
}
